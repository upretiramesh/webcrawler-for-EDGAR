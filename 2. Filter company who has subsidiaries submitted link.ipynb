{
 "cells": [
  {
   "cell_type": "code",
   "execution_count": 1,
   "metadata": {},
   "outputs": [],
   "source": [
    "import requests\n",
    "import re\n",
    "from bs4 import BeautifulSoup\n",
    "import html5lib\n",
    "import pandas as pd\n",
    "import numpy as np"
   ]
  },
  {
   "cell_type": "markdown",
   "metadata": {},
   "source": [
    "## We see that 7803 has submitted 10-k submission but all the comanies may not have subsidiaries, therefore we need to filer the company so that we can have only records who has subsidiaries submitted link "
   ]
  },
  {
   "cell_type": "code",
   "execution_count": 16,
   "metadata": {},
   "outputs": [],
   "source": [
    "def get_text(url):\n",
    "    page = requests.get(url)\n",
    "    return page.text"
   ]
  },
  {
   "cell_type": "code",
   "execution_count": 17,
   "metadata": {},
   "outputs": [],
   "source": [
    "# Define pattern to find the link of subsidiaries \n",
    "pattern = re.compile(r'href=\"(/Archives/edgar/data/.*?)\">.*?</a></td>\\n(.*EX-21(|.01|.1)?)')\n",
    "data = pd.read_csv('2019_10_k.csv')"
   ]
  },
  {
   "cell_type": "code",
   "execution_count": 1,
   "metadata": {},
   "outputs": [],
   "source": [
    "def get_sub_url(url):\n",
    "    text = get_text(url)\n",
    "    found = pattern.findall(text)\n",
    "    if found:\n",
    "        return found[0][0]\n",
    "    else:\n",
    "        return np.nan\n",
    "    \n",
    "%timeit data['EX21'] = data['URL'].apply(get_sub_url)\n",
    "print('process compete')"
   ]
  },
  {
   "cell_type": "code",
   "execution_count": 19,
   "metadata": {},
   "outputs": [
    {
     "name": "stdout",
     "output_type": "stream",
     "text": [
      "1       http://www.sec.gov/Archives/edgar/data/1423824...\n",
      "12      http://www.sec.gov/Archives/edgar/data/934612/...\n",
      "15      http://www.sec.gov/Archives/edgar/data/1701114...\n",
      "18      http://www.sec.gov/Archives/edgar/data/1574291...\n",
      "24      http://www.sec.gov/Archives/edgar/data/1658566...\n",
      "                              ...                        \n",
      "7791    http://www.sec.gov/Archives/edgar/data/1744179...\n",
      "7797    http://www.sec.gov/Archives/edgar/data/40570/0...\n",
      "7800    http://www.sec.gov/Archives/edgar/data/216877/...\n",
      "7801    http://www.sec.gov/Archives/edgar/data/1739208...\n",
      "7802    http://www.sec.gov/Archives/edgar/data/1288750...\n",
      "Name: URL, Length: 3743, dtype: object\n"
     ]
    }
   ],
   "source": [
    "# List of all the submittion which does not contain 10-k submission\n",
    "print(data[data['EX21'].isnull()]['URL'])"
   ]
  },
  {
   "cell_type": "code",
   "execution_count": 28,
   "metadata": {},
   "outputs": [],
   "source": [
    "# save the records who has 10-K submission link\n",
    "data[data['EX21'].notnull()].to_csv('final_sub_list.csv')"
   ]
  }
 ],
 "metadata": {
  "kernelspec": {
   "display_name": "Python 3",
   "language": "python",
   "name": "python3"
  },
  "language_info": {
   "codemirror_mode": {
    "name": "ipython",
    "version": 3
   },
   "file_extension": ".py",
   "mimetype": "text/x-python",
   "name": "python",
   "nbconvert_exporter": "python",
   "pygments_lexer": "ipython3",
   "version": "3.8.0"
  }
 },
 "nbformat": 4,
 "nbformat_minor": 2
}
