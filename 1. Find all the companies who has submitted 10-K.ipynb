{
 "cells": [
  {
   "cell_type": "code",
   "execution_count": 50,
   "metadata": {},
   "outputs": [],
   "source": [
    "import pandas as pd\n",
    "import json\n",
    "import requests\n",
    "import os"
   ]
  },
  {
   "cell_type": "markdown",
   "metadata": {},
   "source": [
    "# Define the required column names for dataset"
   ]
  },
  {
   "cell_type": "code",
   "execution_count": 7,
   "metadata": {},
   "outputs": [],
   "source": [
    "names = ['Company Name', 'Form Type', 'CIK', 'Date Filed', 'URL']"
   ]
  },
  {
   "cell_type": "markdown",
   "metadata": {},
   "source": [
    "## A function which find all the carwler pages from website based on year and quater. We can chnage the year and quater based on your requirement"
   ]
  },
  {
   "cell_type": "code",
   "execution_count": 32,
   "metadata": {},
   "outputs": [
    {
     "name": "stdout",
     "output_type": "stream",
     "text": [
      "Finished:  QTR1\n",
      "Finished:  QTR2\n",
      "Finished:  QTR3\n",
      "Finished:  QTR4\n"
     ]
    }
   ],
   "source": [
    "for qrt in ['QTR1', 'QTR2', 'QTR3', 'QTR4']:\n",
    "    url = 'https://www.sec.gov/Archives/edgar/daily-index/2019/'+qrt+'/index.json'\n",
    "    data = requests.get(url)\n",
    "    data = data.json()\n",
    "    \n",
    "    file_names = []\n",
    "    for eachday in data['directory']['item']:\n",
    "        if eachday['href'].split('.')[0]=='crawler':\n",
    "            file_names.append(eachday['href'])\n",
    "\n",
    "            \n",
    "    for f in file_names:\n",
    "        url2 = 'https://www.sec.gov/Archives/edgar/daily-index/2019/'+qrt+'/'+f\n",
    "        r = requests.get(url2, stream=True)\n",
    "        with open('./2019/'+qrt+'/'+f, 'wb') as ff:\n",
    "            for chunk in r.iter_content(chunk_size=10240):\n",
    "                ff.write(chunk)\n",
    "        \n",
    "    print('Finished: ', qrt)"
   ]
  },
  {
   "cell_type": "markdown",
   "metadata": {},
   "source": [
    "# From the downloaded cowler pages, find the the company submittion link who has submitted 10-K report"
   ]
  },
  {
   "cell_type": "code",
   "execution_count": 70,
   "metadata": {},
   "outputs": [
    {
     "name": "stdout",
     "output_type": "stream",
     "text": [
      "QTR1/\n",
      "QTR2/\n",
      "QTR3/\n",
      "QTR4/\n"
     ]
    }
   ],
   "source": [
    "k10 = list()\n",
    "for qrt in ['QTR1/', 'QTR2/', 'QTR3/', 'QTR4/']:\n",
    "    \n",
    "    for f in os.listdir('2019/'+qrt):\n",
    "        \n",
    "        if f[0]!='.':\n",
    "\n",
    "            with open ('./2019/'+qrt+f, 'r') as ff:\n",
    "                for line in ff.readlines()[10:]:\n",
    "                    line = line.split()\n",
    "                    if line[-4]=='10-K':\n",
    "                        name = list()\n",
    "                        name.append(' '.join(line[:-4]))\n",
    "                        name.extend(line[-4:])\n",
    "                        k10.append(name)\n",
    "    print(qrt)"
   ]
  },
  {
   "cell_type": "markdown",
   "metadata": {},
   "source": [
    "# Lets save all the detials as a dataframe"
   ]
  },
  {
   "cell_type": "code",
   "execution_count": 72,
   "metadata": {},
   "outputs": [],
   "source": [
    "data = pd.DataFrame(k10,columns=names)"
   ]
  },
  {
   "cell_type": "code",
   "execution_count": 73,
   "metadata": {},
   "outputs": [],
   "source": [
    "data.to_csv('2019_10_k.csv')"
   ]
  },
  {
   "cell_type": "code",
   "execution_count": 74,
   "metadata": {},
   "outputs": [
    {
     "data": {
      "text/html": [
       "<div>\n",
       "<style scoped>\n",
       "    .dataframe tbody tr th:only-of-type {\n",
       "        vertical-align: middle;\n",
       "    }\n",
       "\n",
       "    .dataframe tbody tr th {\n",
       "        vertical-align: top;\n",
       "    }\n",
       "\n",
       "    .dataframe thead th {\n",
       "        text-align: right;\n",
       "    }\n",
       "</style>\n",
       "<table border=\"1\" class=\"dataframe\">\n",
       "  <thead>\n",
       "    <tr style=\"text-align: right;\">\n",
       "      <th></th>\n",
       "      <th>Company Name</th>\n",
       "      <th>Form Type</th>\n",
       "      <th>CIK</th>\n",
       "      <th>Date Filed</th>\n",
       "      <th>URL</th>\n",
       "    </tr>\n",
       "  </thead>\n",
       "  <tbody>\n",
       "    <tr>\n",
       "      <th>0</th>\n",
       "      <td>AFLAC INC</td>\n",
       "      <td>10-K</td>\n",
       "      <td>4977</td>\n",
       "      <td>20190225</td>\n",
       "      <td>http://www.sec.gov/Archives/edgar/data/4977/00...</td>\n",
       "    </tr>\n",
       "    <tr>\n",
       "      <th>1</th>\n",
       "      <td>ALDER BIOPHARMACEUTICALS INC</td>\n",
       "      <td>10-K</td>\n",
       "      <td>1423824</td>\n",
       "      <td>20190225</td>\n",
       "      <td>http://www.sec.gov/Archives/edgar/data/1423824...</td>\n",
       "    </tr>\n",
       "    <tr>\n",
       "      <th>2</th>\n",
       "      <td>ALIMERA SCIENCES INC</td>\n",
       "      <td>10-K</td>\n",
       "      <td>1267602</td>\n",
       "      <td>20190225</td>\n",
       "      <td>http://www.sec.gov/Archives/edgar/data/1267602...</td>\n",
       "    </tr>\n",
       "    <tr>\n",
       "      <th>3</th>\n",
       "      <td>AMERICAN AIRLINES INC</td>\n",
       "      <td>10-K</td>\n",
       "      <td>4515</td>\n",
       "      <td>20190225</td>\n",
       "      <td>http://www.sec.gov/Archives/edgar/data/4515/00...</td>\n",
       "    </tr>\n",
       "    <tr>\n",
       "      <th>4</th>\n",
       "      <td>AMERICAN STATES WATER CO</td>\n",
       "      <td>10-K</td>\n",
       "      <td>1056903</td>\n",
       "      <td>20190225</td>\n",
       "      <td>http://www.sec.gov/Archives/edgar/data/1056903...</td>\n",
       "    </tr>\n",
       "    <tr>\n",
       "      <th>...</th>\n",
       "      <td>...</td>\n",
       "      <td>...</td>\n",
       "      <td>...</td>\n",
       "      <td>...</td>\n",
       "      <td>...</td>\n",
       "    </tr>\n",
       "    <tr>\n",
       "      <th>7798</th>\n",
       "      <td>INNOVATIVE SOLUTIONS &amp; SUPPORT INC</td>\n",
       "      <td>10-K</td>\n",
       "      <td>836690</td>\n",
       "      <td>20191223</td>\n",
       "      <td>http://www.sec.gov/Archives/edgar/data/836690/...</td>\n",
       "    </tr>\n",
       "    <tr>\n",
       "      <th>7799</th>\n",
       "      <td>PHOTRONICS INC</td>\n",
       "      <td>10-K</td>\n",
       "      <td>810136</td>\n",
       "      <td>20191223</td>\n",
       "      <td>http://www.sec.gov/Archives/edgar/data/810136/...</td>\n",
       "    </tr>\n",
       "    <tr>\n",
       "      <th>7800</th>\n",
       "      <td>PISMO COAST VILLAGE INC</td>\n",
       "      <td>10-K</td>\n",
       "      <td>216877</td>\n",
       "      <td>20191223</td>\n",
       "      <td>http://www.sec.gov/Archives/edgar/data/216877/...</td>\n",
       "    </tr>\n",
       "    <tr>\n",
       "      <th>7801</th>\n",
       "      <td>Tenaya Group, Inc.</td>\n",
       "      <td>10-K</td>\n",
       "      <td>1739208</td>\n",
       "      <td>20191223</td>\n",
       "      <td>http://www.sec.gov/Archives/edgar/data/1739208...</td>\n",
       "    </tr>\n",
       "    <tr>\n",
       "      <th>7802</th>\n",
       "      <td>Timberline Resources Corp NT</td>\n",
       "      <td>10-K</td>\n",
       "      <td>1288750</td>\n",
       "      <td>20191223</td>\n",
       "      <td>http://www.sec.gov/Archives/edgar/data/1288750...</td>\n",
       "    </tr>\n",
       "  </tbody>\n",
       "</table>\n",
       "<p>7803 rows × 5 columns</p>\n",
       "</div>"
      ],
      "text/plain": [
       "                            Company Name Form Type      CIK Date Filed  \\\n",
       "0                              AFLAC INC      10-K     4977   20190225   \n",
       "1           ALDER BIOPHARMACEUTICALS INC      10-K  1423824   20190225   \n",
       "2                   ALIMERA SCIENCES INC      10-K  1267602   20190225   \n",
       "3                  AMERICAN AIRLINES INC      10-K     4515   20190225   \n",
       "4               AMERICAN STATES WATER CO      10-K  1056903   20190225   \n",
       "...                                  ...       ...      ...        ...   \n",
       "7798  INNOVATIVE SOLUTIONS & SUPPORT INC      10-K   836690   20191223   \n",
       "7799                      PHOTRONICS INC      10-K   810136   20191223   \n",
       "7800             PISMO COAST VILLAGE INC      10-K   216877   20191223   \n",
       "7801                  Tenaya Group, Inc.      10-K  1739208   20191223   \n",
       "7802        Timberline Resources Corp NT      10-K  1288750   20191223   \n",
       "\n",
       "                                                    URL  \n",
       "0     http://www.sec.gov/Archives/edgar/data/4977/00...  \n",
       "1     http://www.sec.gov/Archives/edgar/data/1423824...  \n",
       "2     http://www.sec.gov/Archives/edgar/data/1267602...  \n",
       "3     http://www.sec.gov/Archives/edgar/data/4515/00...  \n",
       "4     http://www.sec.gov/Archives/edgar/data/1056903...  \n",
       "...                                                 ...  \n",
       "7798  http://www.sec.gov/Archives/edgar/data/836690/...  \n",
       "7799  http://www.sec.gov/Archives/edgar/data/810136/...  \n",
       "7800  http://www.sec.gov/Archives/edgar/data/216877/...  \n",
       "7801  http://www.sec.gov/Archives/edgar/data/1739208...  \n",
       "7802  http://www.sec.gov/Archives/edgar/data/1288750...  \n",
       "\n",
       "[7803 rows x 5 columns]"
      ]
     },
     "execution_count": 74,
     "metadata": {},
     "output_type": "execute_result"
    }
   ],
   "source": [
    "data"
   ]
  },
  {
   "cell_type": "code",
   "execution_count": 1,
   "metadata": {},
   "outputs": [
    {
     "data": {
      "text/plain": [
       "'\\nAccording to the table, we can see that there is 7803 companies who has sumitted 10-K report with the details.\\n'"
      ]
     },
     "execution_count": 1,
     "metadata": {},
     "output_type": "execute_result"
    }
   ],
   "source": [
    "'''\n",
    "According to the table, we can see that there is 7803 companies who has sumitted 10-K report with the details.\n",
    "'''"
   ]
  },
  {
   "cell_type": "code",
   "execution_count": 75,
   "metadata": {},
   "outputs": [
    {
     "data": {
      "text/html": [
       "<div>\n",
       "<style scoped>\n",
       "    .dataframe tbody tr th:only-of-type {\n",
       "        vertical-align: middle;\n",
       "    }\n",
       "\n",
       "    .dataframe tbody tr th {\n",
       "        vertical-align: top;\n",
       "    }\n",
       "\n",
       "    .dataframe thead th {\n",
       "        text-align: right;\n",
       "    }\n",
       "</style>\n",
       "<table border=\"1\" class=\"dataframe\">\n",
       "  <thead>\n",
       "    <tr style=\"text-align: right;\">\n",
       "      <th></th>\n",
       "      <th>Company Name</th>\n",
       "      <th>Form Type</th>\n",
       "      <th>CIK</th>\n",
       "      <th>Date Filed</th>\n",
       "      <th>URL</th>\n",
       "    </tr>\n",
       "  </thead>\n",
       "  <tbody>\n",
       "    <tr>\n",
       "      <th>0</th>\n",
       "      <td>AFLAC INC</td>\n",
       "      <td>10-K</td>\n",
       "      <td>4977</td>\n",
       "      <td>20190225</td>\n",
       "      <td>http://www.sec.gov/Archives/edgar/data/4977/00...</td>\n",
       "    </tr>\n",
       "    <tr>\n",
       "      <th>1</th>\n",
       "      <td>ALDER BIOPHARMACEUTICALS INC</td>\n",
       "      <td>10-K</td>\n",
       "      <td>1423824</td>\n",
       "      <td>20190225</td>\n",
       "      <td>http://www.sec.gov/Archives/edgar/data/1423824...</td>\n",
       "    </tr>\n",
       "    <tr>\n",
       "      <th>2</th>\n",
       "      <td>ALIMERA SCIENCES INC</td>\n",
       "      <td>10-K</td>\n",
       "      <td>1267602</td>\n",
       "      <td>20190225</td>\n",
       "      <td>http://www.sec.gov/Archives/edgar/data/1267602...</td>\n",
       "    </tr>\n",
       "    <tr>\n",
       "      <th>3</th>\n",
       "      <td>AMERICAN AIRLINES INC</td>\n",
       "      <td>10-K</td>\n",
       "      <td>4515</td>\n",
       "      <td>20190225</td>\n",
       "      <td>http://www.sec.gov/Archives/edgar/data/4515/00...</td>\n",
       "    </tr>\n",
       "    <tr>\n",
       "      <th>4</th>\n",
       "      <td>AMERICAN STATES WATER CO</td>\n",
       "      <td>10-K</td>\n",
       "      <td>1056903</td>\n",
       "      <td>20190225</td>\n",
       "      <td>http://www.sec.gov/Archives/edgar/data/1056903...</td>\n",
       "    </tr>\n",
       "  </tbody>\n",
       "</table>\n",
       "</div>"
      ],
      "text/plain": [
       "                   Company Name Form Type      CIK Date Filed  \\\n",
       "0                     AFLAC INC      10-K     4977   20190225   \n",
       "1  ALDER BIOPHARMACEUTICALS INC      10-K  1423824   20190225   \n",
       "2          ALIMERA SCIENCES INC      10-K  1267602   20190225   \n",
       "3         AMERICAN AIRLINES INC      10-K     4515   20190225   \n",
       "4      AMERICAN STATES WATER CO      10-K  1056903   20190225   \n",
       "\n",
       "                                                 URL  \n",
       "0  http://www.sec.gov/Archives/edgar/data/4977/00...  \n",
       "1  http://www.sec.gov/Archives/edgar/data/1423824...  \n",
       "2  http://www.sec.gov/Archives/edgar/data/1267602...  \n",
       "3  http://www.sec.gov/Archives/edgar/data/4515/00...  \n",
       "4  http://www.sec.gov/Archives/edgar/data/1056903...  "
      ]
     },
     "execution_count": 75,
     "metadata": {},
     "output_type": "execute_result"
    }
   ],
   "source": [
    "data.head()"
   ]
  },
  {
   "cell_type": "code",
   "execution_count": 76,
   "metadata": {},
   "outputs": [
    {
     "data": {
      "text/html": [
       "<div>\n",
       "<style scoped>\n",
       "    .dataframe tbody tr th:only-of-type {\n",
       "        vertical-align: middle;\n",
       "    }\n",
       "\n",
       "    .dataframe tbody tr th {\n",
       "        vertical-align: top;\n",
       "    }\n",
       "\n",
       "    .dataframe thead th {\n",
       "        text-align: right;\n",
       "    }\n",
       "</style>\n",
       "<table border=\"1\" class=\"dataframe\">\n",
       "  <thead>\n",
       "    <tr style=\"text-align: right;\">\n",
       "      <th></th>\n",
       "      <th>Company Name</th>\n",
       "      <th>Form Type</th>\n",
       "      <th>CIK</th>\n",
       "      <th>Date Filed</th>\n",
       "      <th>URL</th>\n",
       "    </tr>\n",
       "  </thead>\n",
       "  <tbody>\n",
       "    <tr>\n",
       "      <th>7798</th>\n",
       "      <td>INNOVATIVE SOLUTIONS &amp; SUPPORT INC</td>\n",
       "      <td>10-K</td>\n",
       "      <td>836690</td>\n",
       "      <td>20191223</td>\n",
       "      <td>http://www.sec.gov/Archives/edgar/data/836690/...</td>\n",
       "    </tr>\n",
       "    <tr>\n",
       "      <th>7799</th>\n",
       "      <td>PHOTRONICS INC</td>\n",
       "      <td>10-K</td>\n",
       "      <td>810136</td>\n",
       "      <td>20191223</td>\n",
       "      <td>http://www.sec.gov/Archives/edgar/data/810136/...</td>\n",
       "    </tr>\n",
       "    <tr>\n",
       "      <th>7800</th>\n",
       "      <td>PISMO COAST VILLAGE INC</td>\n",
       "      <td>10-K</td>\n",
       "      <td>216877</td>\n",
       "      <td>20191223</td>\n",
       "      <td>http://www.sec.gov/Archives/edgar/data/216877/...</td>\n",
       "    </tr>\n",
       "    <tr>\n",
       "      <th>7801</th>\n",
       "      <td>Tenaya Group, Inc.</td>\n",
       "      <td>10-K</td>\n",
       "      <td>1739208</td>\n",
       "      <td>20191223</td>\n",
       "      <td>http://www.sec.gov/Archives/edgar/data/1739208...</td>\n",
       "    </tr>\n",
       "    <tr>\n",
       "      <th>7802</th>\n",
       "      <td>Timberline Resources Corp NT</td>\n",
       "      <td>10-K</td>\n",
       "      <td>1288750</td>\n",
       "      <td>20191223</td>\n",
       "      <td>http://www.sec.gov/Archives/edgar/data/1288750...</td>\n",
       "    </tr>\n",
       "  </tbody>\n",
       "</table>\n",
       "</div>"
      ],
      "text/plain": [
       "                            Company Name Form Type      CIK Date Filed  \\\n",
       "7798  INNOVATIVE SOLUTIONS & SUPPORT INC      10-K   836690   20191223   \n",
       "7799                      PHOTRONICS INC      10-K   810136   20191223   \n",
       "7800             PISMO COAST VILLAGE INC      10-K   216877   20191223   \n",
       "7801                  Tenaya Group, Inc.      10-K  1739208   20191223   \n",
       "7802        Timberline Resources Corp NT      10-K  1288750   20191223   \n",
       "\n",
       "                                                    URL  \n",
       "7798  http://www.sec.gov/Archives/edgar/data/836690/...  \n",
       "7799  http://www.sec.gov/Archives/edgar/data/810136/...  \n",
       "7800  http://www.sec.gov/Archives/edgar/data/216877/...  \n",
       "7801  http://www.sec.gov/Archives/edgar/data/1739208...  \n",
       "7802  http://www.sec.gov/Archives/edgar/data/1288750...  "
      ]
     },
     "execution_count": 76,
     "metadata": {},
     "output_type": "execute_result"
    }
   ],
   "source": [
    "data.tail()"
   ]
  },
  {
   "cell_type": "code",
   "execution_count": null,
   "metadata": {},
   "outputs": [],
   "source": []
  }
 ],
 "metadata": {
  "kernelspec": {
   "display_name": "Python 3",
   "language": "python",
   "name": "python3"
  },
  "language_info": {
   "codemirror_mode": {
    "name": "ipython",
    "version": 3
   },
   "file_extension": ".py",
   "mimetype": "text/x-python",
   "name": "python",
   "nbconvert_exporter": "python",
   "pygments_lexer": "ipython3",
   "version": "3.8.0"
  }
 },
 "nbformat": 4,
 "nbformat_minor": 2
}
